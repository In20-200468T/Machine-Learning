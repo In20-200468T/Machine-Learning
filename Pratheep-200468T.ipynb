{
 "cells": [
  {
   "cell_type": "markdown",
   "id": "ea4b7cc4-4743-4555-ba9d-31856132f962",
   "metadata": {
    "deletable": false,
    "editable": false,
    "slideshow": {
     "slide_type": ""
    },
    "tags": []
   },
   "source": [
    "# <center>ML Basics </center>\n",
    "## <center>Inclass Project 1 - MA4144</center>\n",
    "\n",
    "This project contains 12 tasks/questions to be completed.\n",
    "\n",
    "After finishing project run the entire notebook once and **save the notebook as a pdf** (File menu -> Save and Export Notebook As -> PDF). You are **required to upload this PDF on moodle**."
   ]
  },
  {
   "cell_type": "markdown",
   "id": "fc927cf7-fbea-4684-b942-8a9405400822",
   "metadata": {
    "deletable": false,
    "editable": false
   },
   "source": [
    "Use this cell to use any include any imports"
   ]
  },
  {
   "cell_type": "code",
   "execution_count": 1,
   "id": "61792cd0-155b-436c-8ebe-82933548d92d",
   "metadata": {},
   "outputs": [],
   "source": [
    "import pandas as pd\n",
    "import numpy as np\n",
    "import seaborn as sns\n",
    "import matplotlib.pyplot as plt"
   ]
  },
  {
   "cell_type": "markdown",
   "id": "a3c3f445-ab74-4697-86b9-8ffec429d923",
   "metadata": {
    "deletable": false,
    "editable": false
   },
   "source": [
    "## Section 1\n",
    "\n",
    "In this section we will analyse a dataset to look into its statistical propeties. For this we will use the DiabetesTrain.csv dataset. Each row corresponds to a single patient. The first 8 columns correspond to the features of the patients that may help predict risk of diabetes. The outcome column is a binary column represting the risk of diabetes, outcome 1 : high risk of diabetes and outcome 0 little to no risk of diabetes."
   ]
  },
  {
   "cell_type": "markdown",
   "id": "4a950e4d-c397-47a9-b041-46ba72d5d95c",
   "metadata": {
    "deletable": false,
    "editable": false
   },
   "source": [
    "**Q1.** Read the dataset into a pandas dataframe called diabetesData. "
   ]
  },
  {
   "cell_type": "code",
   "execution_count": 2,
   "id": "31a4ad00-0298-4de0-b952-de1ac4990e7d",
   "metadata": {
    "scrolled": true
   },
   "outputs": [
    {
     "name": "stdout",
     "output_type": "stream",
     "text": [
      "   Pregnancies  Glucose  BloodPressure  SkinThickness  Insulin   BMI  \\\n",
      "0            1       95             74             21       73  25.9   \n",
      "1            1       95             82             25      180  35.0   \n",
      "2            1       90             68              8        0  24.5   \n",
      "3            7      195             70             33      145  25.1   \n",
      "4            0      180             66             39        0  42.0   \n",
      "\n",
      "   DiabetesPedigreeFunction  Age  Outcome  \n",
      "0                     0.673   36        0  \n",
      "1                     0.233   43        1  \n",
      "2                     1.138   36        0  \n",
      "3                     0.163   55        1  \n",
      "4                     1.893   25        1  \n"
     ]
    }
   ],
   "source": [
    "#TODO\n",
    "\n",
    "diabetesData = pd.read_csv(\"DiabetesTrain.csv\")\n",
    "\n",
    "print(diabetesData.head())\n"
   ]
  },
  {
   "cell_type": "markdown",
   "id": "da24345f-cb2b-437b-af61-9d0067fd56af",
   "metadata": {
    "deletable": false,
    "editable": false
   },
   "source": [
    "**Q2.** Let us define the following events.\n",
    "\n",
    "A = Patient has BMI less than 25\n",
    "\n",
    "B = Patient has Glucose level greater than 100\n",
    "\n",
    "C = Patient has had more than 2 pregnancies\n",
    "\n",
    "D = Patient has high risk of diabetes\n",
    "\n",
    "Based on the above definitions determine the following probabilities. Pandas dataframe inbuilt functions such as count, group by, would be useful for this task."
   ]
  },
  {
   "cell_type": "code",
   "execution_count": 3,
   "id": "63382318-9b8d-4ea3-a74c-e3ac6ebbbc5d",
   "metadata": {},
   "outputs": [
    {
     "name": "stdout",
     "output_type": "stream",
     "text": [
      "P(A) = 0.1479\n",
      "P(B) = 0.7368\n",
      "P(C) = 0.5388\n",
      "P(D) = 0.3784\n",
      "P(A & D) = 0.0075\n",
      "P(B & D) = 0.3559\n",
      "P(C & D) = 0.2531\n",
      "P(D / A) = 0.0199\n",
      "P(D / B) = 0.9404\n",
      "P(D / C) = 0.6689\n",
      "which contributes  the most to high risk of diabetes is : B\n"
     ]
    }
   ],
   "source": [
    "A = diabetesData['BMI'] < 25\n",
    "B = diabetesData['Glucose'] > 100\n",
    "C = diabetesData['Pregnancies'] > 2\n",
    "D = diabetesData['Outcome'] == 1 \n",
    "\n",
    "total_patients=len(diabetesData)\n",
    "K= total_patients\n",
    "\n",
    "P_A = A.sum() / K     #probability of A\n",
    "P_B = B.sum() / K    #probability of B\n",
    "P_C = C.sum() / K    #probability of C\n",
    "P_D = D.sum() / K     #probability of D\n",
    "\n",
    "P_A_D = (A & D).sum() / K  #probability of (A&D)\n",
    "P_B_D = (B & D).sum() / K #probability of (B&D)\n",
    "P_C_D = (C & D).sum() / K #probability of (c&D)\n",
    "\n",
    "# Conditional probabilities \n",
    "P_D_given_A = P_A_D / P_D  #P(D/A)\n",
    "P_D_given_B = P_B_D / P_D  #P(D/A)\n",
    "P_D_given_C = P_C_D / P_D  #P(D/A)\n",
    "\n",
    "# determine which contributes the most\n",
    "if P_D_given_A > P_D_given_B and P_D_given_A > P_D_given_C : \n",
    "    Q2 = 'A'\n",
    "elif P_D_given_B > P_D_given_A and P_D_given_B > P_D_given_C : \n",
    "    Q2 = 'B' \n",
    "else :\n",
    "    Q2 = 'C'\n",
    "\n",
    "#print_results\n",
    "print(f\"P(A) = {P_A:.4f}\")\n",
    "print(f\"P(B) = {P_B:.4f}\")\n",
    "print(f\"P(C) = {P_C:.4f}\")\n",
    "print(f\"P(D) = {P_D:.4f}\")\n",
    "print(f\"P(A & D) = {P_A_D:.4f}\")\n",
    "print(f\"P(B & D) = {P_B_D:.4f}\")\n",
    "print(f\"P(C & D) = {P_C_D:.4f}\")\n",
    "print(f\"P(D / A) = {P_D_given_A:.4f}\")\n",
    "print(f\"P(D / B) = {P_D_given_B:.4f}\")\n",
    "print(f\"P(D / C) = {P_D_given_C:.4f}\")\n",
    "print(f\"which contributes  the most to high risk of diabetes is : {Q2}\")\n"
   ]
  },
  {
   "cell_type": "markdown",
   "id": "c641a2bf-7add-415a-ae07-8e8d8f55fbcc",
   "metadata": {
    "deletable": false,
    "editable": false
   },
   "source": [
    "**Q3.** Now we will compute the covariance and correlation matrices from scratch. For this do not use any inbuilt functions. Follow the steps outlined below. Each step is graded."
   ]
  },
  {
   "cell_type": "markdown",
   "id": "e29ca493-d8c1-493b-a4f4-7e8f1cddc382",
   "metadata": {
    "deletable": false,
    "editable": false
   },
   "source": [
    "**Step1:** Convert the diabetesData dataframe into a 2-dimensional numpy array with the same number of rows and columns as in the dataframe. Name it diabetesX."
   ]
  },
  {
   "cell_type": "code",
   "execution_count": 4,
   "id": "147f70c4-d19d-4e77-b69b-170bc7da8e37",
   "metadata": {},
   "outputs": [
    {
     "name": "stdout",
     "output_type": "stream",
     "text": [
      "[[  1.     95.     74.    ...   0.673  36.      0.   ]\n",
      " [  1.     95.     82.    ...   0.233  43.      1.   ]\n",
      " [  1.     90.     68.    ...   1.138  36.      0.   ]\n",
      " ...\n",
      " [  4.    146.     78.    ...   0.52   67.      1.   ]\n",
      " [ 15.    136.     70.    ...   0.153  43.      1.   ]\n",
      " [ 10.    101.     86.    ...   1.136  38.      1.   ]]\n",
      "shape of diabetesX: (399, 9)\n"
     ]
    }
   ],
   "source": [
    "#TODO\n",
    "\n",
    "diabetesX = diabetesData.to_numpy()\n",
    "print(diabetesX)\n",
    "\n",
    "print(\"shape of diabetesX:\" , diabetesX.shape)"
   ]
  },
  {
   "cell_type": "markdown",
   "id": "33652ee2-79f0-4908-9c97-7f8a22ce9c51",
   "metadata": {
    "deletable": false,
    "editable": false
   },
   "source": [
    "**Step2:** In diabetesX; center every column, by subtracting each column by the column mean and reassign it to diabetesX."
   ]
  },
  {
   "cell_type": "code",
   "execution_count": 5,
   "id": "8a106986-e334-49ea-9259-9b2f53d4f50a",
   "metadata": {},
   "outputs": [
    {
     "name": "stdout",
     "output_type": "stream",
     "text": [
      "[[ -2.84711779 -26.95989975   5.1754386    0.15037594 -11.12280702\n",
      "   -6.24360902   0.1785188    3.07017544  -0.37844612]\n",
      " [ -2.84711779 -26.95989975  13.1754386    4.15037594  95.87719298\n",
      "    2.85639098  -0.2614812   10.07017544   0.62155388]\n",
      " [ -2.84711779 -31.95989975  -0.8245614  -12.84962406 -84.12280702\n",
      "   -7.64360902   0.6435188    3.07017544  -0.37844612]]\n"
     ]
    }
   ],
   "source": [
    "#TODO\n",
    "\n",
    "#column-wise mean\n",
    "column_wise_means = diabetesX.mean(axis=0)\n",
    "\n",
    "#subract column-wise means from each element in the column\n",
    "diabetesX = diabetesX - column_wise_means\n",
    "\n",
    "#check for few rows\n",
    "print(diabetesX[:3])\n"
   ]
  },
  {
   "cell_type": "markdown",
   "id": "b7bd1da1-6bfd-4aac-a80a-24226faf45da",
   "metadata": {
    "deletable": false,
    "editable": false
   },
   "source": [
    "**Step3:** Compute the covariance matrix. Use, matrix operations in numpy such as matrix multiplication, matrix transpose and don't forget to average. Assign it to the variable cov."
   ]
  },
  {
   "cell_type": "code",
   "execution_count": 6,
   "id": "06799e49-de01-424a-a660-1503ac9a023a",
   "metadata": {},
   "outputs": [
    {
     "name": "stdout",
     "output_type": "stream",
     "text": [
      "399\n",
      "Covariance matrix:\n",
      " [[ 1.18735532e+01  2.33682258e+01  7.79471921e+00 -1.81952998e+00\n",
      "  -1.62424844e+01  2.09211093e+00 -9.71825292e-02  2.10043198e+01\n",
      "   4.07249279e-01]\n",
      " [ 2.33682258e+01  1.04683758e+03  4.82467160e+01  1.21447085e+01\n",
      "   1.38017328e+03  5.94032607e+01  1.29241130e+00  1.20067531e+02\n",
      "   7.14586718e+00]\n",
      " [ 7.79471921e+00  4.82467160e+01  3.77446531e+02  6.41318434e+01\n",
      "   2.19169840e+02  3.36335493e+01 -1.68822401e-01  3.79826325e+01\n",
      "   2.42440272e-01]\n",
      " [-1.81952998e+00  1.21447085e+01  6.41318434e+01  2.46339139e+02\n",
      "   8.49830071e+02  4.79656195e+01  8.24245910e-01 -1.91487702e+01\n",
      "   4.96750671e-01]\n",
      " [-1.62424844e+01  1.38017328e+03  2.19169840e+02  8.49830071e+02\n",
      "   1.51876708e+04  1.87504933e+02  6.22014427e+00  4.35237151e+01\n",
      "   8.45843251e+00]\n",
      " [ 2.09211093e+00  5.94032607e+01  3.36335493e+01  4.79656195e+01\n",
      "   1.87504933e+02  6.81425658e+01  3.35088259e-01  5.72869611e+00\n",
      "   1.24023879e+00]\n",
      " [-9.71825292e-02  1.29241130e+00 -1.68822401e-01  8.24245910e-01\n",
      "   6.22014427e+00  3.35088259e-01  1.18123718e-01  1.49247421e-01\n",
      "   2.56616541e-02]\n",
      " [ 2.10043198e+01  1.20067531e+02  3.79826325e+01 -1.91487702e+01\n",
      "   4.35237151e+01  5.72869611e+00  1.49247421e-01  1.30532751e+02\n",
      "   1.31305651e+00]\n",
      " [ 4.07249279e-01  7.14586718e+00  2.42440272e-01  4.96750671e-01\n",
      "   8.45843251e+00  1.24023879e+00  2.56616541e-02  1.31305651e+00\n",
      "   2.35815670e-01]]\n"
     ]
    }
   ],
   "source": [
    "#TODO\n",
    "\n",
    "n = diabetesX.shape[0]\n",
    "print(n)\n",
    "# Compute the covariance matrix using matrix operations\n",
    "cov = (diabetesX.T @ diabetesX) / (n - 1)\n",
    "# Print the covariance matrix\n",
    "print(\"Covariance matrix:\\n\", cov)"
   ]
  },
  {
   "cell_type": "markdown",
   "id": "3c55b04f-6ee0-4729-85ab-b0d798114ce7",
   "metadata": {
    "deletable": false,
    "editable": false
   },
   "source": [
    "**Step4:** Compute the matrix varmat, whose $(i, j)$ entry is $\\sqrt{var(i)var(j)}$, where $var(k)$ is the variance of the $k$th column of the diabetesX matrix. The varinces can be extracted from the covariance matrix itself appropriately and varmat can be computed by appropriate matrix multiplication of a column matrix and a row matrix."
   ]
  },
  {
   "cell_type": "code",
   "execution_count": 7,
   "id": "aabd144a-f091-4b1d-bf06-03fc574f8492",
   "metadata": {},
   "outputs": [
    {
     "name": "stdout",
     "output_type": "stream",
     "text": [
      "Variance matrix:\n",
      " [[1.40981266e+02 1.24296818e+04 4.48163148e+03 2.92492088e+03\n",
      "  1.80331618e+05 8.09094383e+02 1.40254825e+00 1.54988757e+03\n",
      "  2.79996991e+00]\n",
      " [1.24296818e+04 1.09586893e+06 3.95125214e+05 2.57877069e+05\n",
      "  1.58990246e+07 7.13341990e+04 1.23656347e+02 1.36646590e+05\n",
      "  2.46860706e+02]\n",
      " [4.48163148e+03 3.95125214e+05 1.42465884e+05 9.29798536e+04\n",
      "  5.73253366e+06 2.57201751e+04 4.45853874e+01 4.92691342e+04\n",
      "  8.90078065e+01]\n",
      " [2.92492088e+03 2.57877069e+05 9.29798536e+04 6.06829716e+04\n",
      "  3.74131776e+06 1.67861810e+04 2.90984949e+01 3.21553256e+04\n",
      "  5.80906291e+01]\n",
      " [1.80331618e+05 1.58990246e+07 5.73253366e+06 3.74131776e+06\n",
      "  2.30665345e+08 1.03492686e+06 1.79402414e+03 1.98248846e+06\n",
      "  3.58149077e+03]\n",
      " [8.09094383e+02 7.13341990e+04 2.57201751e+04 1.67861810e+04\n",
      "  1.03492686e+06 4.64340928e+03 8.04925320e+00 8.89483661e+03\n",
      "  1.60690848e+01]\n",
      " [1.40254825e+00 1.23656347e+02 4.45853874e+01 2.90984949e+01\n",
      "  1.79402414e+03 8.04925320e+00 1.39532127e-02 1.54190139e+01\n",
      "  2.78554236e-02]\n",
      " [1.54988757e+03 1.36646590e+05 4.92691342e+04 3.21553256e+04\n",
      "  1.98248846e+06 8.89483661e+03 1.54190139e+01 1.70387992e+04\n",
      "  3.07816682e+01]\n",
      " [2.79996991e+00 2.46860706e+02 8.90078065e+01 5.80906291e+01\n",
      "  3.58149077e+03 1.60690848e+01 2.78554236e-02 3.07816682e+01\n",
      "  5.56090301e-02]]\n"
     ]
    }
   ],
   "source": [
    "#TODO\n",
    "\n",
    "variances = np.diag(cov)\n",
    "\n",
    "# Create a column matrix of variances\n",
    "variance_column = variances.reshape(-1, 1)\n",
    "\n",
    "# Compute the variance matrix by multiplying the column matrix with its t\n",
    "varmat = variance_column @ variance_column.T\n",
    "\n",
    "# Print the variance matrix\n",
    "print(\"Variance matrix:\\n\", varmat)\n"
   ]
  },
  {
   "cell_type": "markdown",
   "id": "ab33ea08-3037-45b1-918f-d0c737fc3725",
   "metadata": {
    "deletable": false,
    "editable": false
   },
   "source": [
    "**Step5:** Use the cov matrix and varmat matrix appropriately to compute the correlational matrix corr. And then use seaborn (sns imported above) to plot an annotated heatmap of the correlation matrix."
   ]
  },
  {
   "cell_type": "code",
   "execution_count": 8,
   "id": "62fc14db-d7f2-45dc-8ceb-919903ece94e",
   "metadata": {},
   "outputs": [
    {
     "data": {
      "image/png": "[encoded data removed]",
      "text/plain": [
       "<Figure size 1000x800 with 2 Axes>"
      ]
     },
     "metadata": {},
     "output_type": "display_data"
    }
   ],
   "source": [
    "#TODO\n",
    "\n",
    "# correlation matrix\n",
    "corr = cov / np.sqrt(varmat)\n",
    "\n",
    "# Plot the heatmap.\n",
    "plt.figure(figsize=(10, 8))\n",
    "sns.heatmap(corr, annot=True, cmap='coolwarm', fmt='.2f', cbar=True)\n",
    "plt.title(\"Heatmap of correlation matrix\")\n",
    "plt.show()\n",
    "\n",
    "\n"
   ]
  },
  {
   "cell_type": "markdown",
   "id": "76dabb96-e161-4c79-b8c5-c41d29fcb014",
   "metadata": {
    "deletable": false,
    "editable": false
   },
   "source": [
    "From the heatmap read the following correlations. Also, answer the question below."
   ]
  },
  {
   "cell_type": "code",
   "execution_count": 9,
   "id": "14101511-4957-4665-a712-4393e3c38355",
   "metadata": {},
   "outputs": [],
   "source": [
    "#Corr(BMI, Outcome)\n",
    "Corr1 = 0.31\n",
    "\n",
    "#Corr(Glucose, Outcome)\n",
    "Corr2 = 0.45\n",
    "\n",
    "#Corr(Pregnancies, Outcome)\n",
    "Corr3 = 0.24\n",
    "\n",
    "#Out of the 8 features, which two features are the most correlated. Fill in the list variable bestcorr\n",
    "bestcorr = ['Pregnancies', 'Age']"
   ]
  },
  {
   "cell_type": "markdown",
   "id": "716b1e02-f080-4392-9381-608124de444f",
   "metadata": {
    "deletable": false,
    "editable": false
   },
   "source": [
    "## Section 2\n",
    "\n",
    "In this section we will train a logistic regression model on the diabetes dataset to predict the risk of diabetes given patient data. We will then use it to perform predictions on previously unseen (test) data."
   ]
  },
  {
   "cell_type": "markdown",
   "id": "a13b5fdb-2e48-427f-afde-876a8c9b53a3",
   "metadata": {
    "deletable": false,
    "editable": false
   },
   "source": [
    "**Q4.** Preprocess Data.\n",
    " \n",
    "Implement a function normalizeData that normalizes each column of a data array. Recall that a column $x$ is normalized by $z = \\frac{x - mean(x)}{std(x)}$. The function should return the normalized data matrix and the mean and standard deviations of each column (we'll need these to normalize the test data later)."
   ]
  },
  {
   "cell_type": "code",
   "execution_count": 10,
   "id": "e1819fc2-886d-4430-9e4a-bb5d6ef2b8bd",
   "metadata": {},
   "outputs": [],
   "source": [
    "\n",
    "def normalizeData(X, mean=None, std=None):\n",
    " # If mean and standard_deviation are None, calculate them\n",
    " if mean is None or std is None:\n",
    "    mean = np.mean(X, axis=0)\n",
    "    std = np.std(X, axis=0)\n",
    "\n",
    " normalized_X = (X - mean) / std\n",
    "\n",
    " return normalized_X, mean, std"
   ]
  },
  {
   "cell_type": "markdown",
   "id": "f0477700-8a5b-468f-b926-0cc0ad8d2100",
   "metadata": {
    "deletable": false,
    "editable": false
   },
   "source": [
    "**Q5.** Sigmoid function and it's derivative.\n",
    "\n",
    "1. Implement the sigmoid function. Given a numpy array, compute the sigmoid values of the array. It should return an array of sigmoid values. If you see any overflow errors/warnings popping up, that is because the numbers coming out of the exponential function $e^{-t}$ in the sigmoid function are too large to handle. In that case, please clip the input between some large enough negative and positive value (look into numpy.clip).\n",
    "2. Implement the derivative of the sigmoid function. Recall that if, $p = \\sigma(t)$, then $p' = p(1-p)$. The function should take in an array of $p$ values and then return the array of $p'$. \n"
   ]
  },
  {
   "cell_type": "code",
   "execution_count": 11,
   "id": "c7e3bf14-35f5-4f55-b73a-5b44f172c009",
   "metadata": {},
   "outputs": [],
   "source": [
    "\n",
    "def sigmoid(t):\n",
    "    sig = 1 / (1 + np.exp(-t))\n",
    "\n",
    "    return sig\n"
   ]
  },
  {
   "cell_type": "code",
   "execution_count": 12,
   "id": "77204775-8069-4447-a569-b04245b9375f",
   "metadata": {},
   "outputs": [],
   "source": [
    "#Derivative of sigmoid function\n",
    "def derivSigmoid(p):\n",
    "    #TODO\n",
    "    sig_p = sigmoid(p)\n",
    "    deriv_p = sig_p * (1 - sig_p)\n",
    "\n",
    "    return deriv_p"
   ]
  },
  {
   "cell_type": "markdown",
   "id": "db8406b3-543e-4ef5-8509-7dea6097593b",
   "metadata": {
    "deletable": false,
    "editable": false
   },
   "source": [
    "**Q6.** Compute sigmoid probabilities.\n",
    "\n",
    "Recall that $p = P(y = 1 | x) = \\sigma(x^T \\omega + b)$, where $\\omega = \\begin{bmatrix} \\omega_1 \\\\ \\omega_2 \\\\ \\vdots \\\\ \\omega_d \\end{bmatrix}$ are the weights and $b$ is the bias term. Implement a function sigProg to calculate those probabilities, given a matrix $X$ of data, weight vector $\\omega$ and bias $b$. It is possible to compute the array of probabilities for the entire dataset at once without a single for-loop, by just using matrix mutltiplications, which is the rightway to achieve maximum efficiency. You are supposed to use the above implemented sigmoid function. This should return an array of probabilities."
   ]
  },
  {
   "cell_type": "code",
   "execution_count": 13,
   "id": "c7184fb8-9f8d-4e4d-a8a5-64c28a529475",
   "metadata": {},
   "outputs": [],
   "source": [
    "def sigProg(X, w, b):\n",
    "\n",
    "    #TODO\n",
    "    z = np.dot(X, w) + b\n",
    "    p = sigmoid(z)\n",
    "    return p\n",
    " "
   ]
  },
  {
   "cell_type": "markdown",
   "id": "20f4c65d-042a-46d7-a59d-e57554bafa4a",
   "metadata": {
    "deletable": false,
    "editable": false
   },
   "source": [
    "**Q7.** Compute loss gradient.\n",
    "\n",
    "Recall that the loss function for logistic regression is given by,\n",
    "\n",
    "$L(\\omega, b) = \\frac{1}{N} \\sum\\limits_{i = 1}^{N} (p_i - y_i)^2 + \\lambda reg(\\omega)$ where is the sigmoid probability $p_i = P(y_i = 1 | x_i)$ for the data point $(x_i, y_i)$ and $reg(\\omega)$ is the regularization term - it could be either ridge $reg(\\omega) = ||\\omega||_2^2$ or lasso $reg(\\omega) = ||\\omega||_1$ or no regularization at all. $\\lambda \\geq 0$ is the regularization constant. $N$ is the number of datapoints.\n",
    "\n",
    "Then, the gradient of the loss function with respect to $\\omega$ and the derivative with respect to $b$ is given by,\n",
    "\n",
    "$\\nabla_{\\omega}L = \\frac{1}{N} \\sum\\limits_{i = 1}^{N} (p_i - y_i) p'_i x_i \\ + \\ \\lambda reg'(\\omega)$\n",
    "\n",
    "$\\frac{\\partial L}{\\partial b} = \\frac{1}{N} \\sum\\limits_{i = 1}^{N} (p_i - y_i) p'_i$\n",
    "\n",
    "Here,\n",
    "\n",
    "$reg'(\\omega) = \\begin{cases} \\omega \\; &\\textrm{ if ridge } \\\\ sign(\\omega) \\; &\\textrm{ if lasso } \\end{cases}$\n",
    "\n",
    "Implement a function named gradient to compute the gradient and derivative of the loss function, given data matrix $X$, output vector $y$, weight vector $\\omega$ and bias $b$. The function should also be able to take in other parameters such as reg (= \"none\", \"ridge\" or \"lasso\") and lambda. It should return the gradient and derivative. All these computations can be done without a single for loop, only by using numpy builtins for matrix computations, which is the most desired way to achieve efficiency "
   ]
  },
  {
   "cell_type": "code",
   "execution_count": 14,
   "id": "0b6cc7e1-0f7c-408e-84de-442e53d19ca0",
   "metadata": {},
   "outputs": [],
   "source": [
    "def gradient(X, y, w, b, reg = \"none\", Lambda = 0.1):\n",
    "\n",
    "    #TODO\n",
    "    # predicted probabilities\n",
    "    p=sigProg(X,w,b)\n",
    "\n",
    "    #error\n",
    "    error = p - y\n",
    "\n",
    "    #derivative of sigmoid function\n",
    "    p_p = derivSigmoid(p)\n",
    "\n",
    "    #gradient\n",
    "    grad_w = (1 / len(X)) * np.dot(X.T, error * p_p)\n",
    "\n",
    "    #adding regularization\n",
    "    if reg == \"ridge\" :\n",
    "        grad_w += Lambda * w \n",
    "    elif reg == \"lasso\":   \n",
    "        grad_w += Lambda  * np.sign(w)\n",
    "\n",
    "    grad_b = (1 / len(X))  * np.sum(error * p_p)   \n",
    "\n",
    "    return grad_w, grad_b"
   ]
  },
  {
   "cell_type": "markdown",
   "id": "b98327e0-e8ed-43b4-89a8-c1fb1767d274",
   "metadata": {
    "deletable": false,
    "editable": false
   },
   "source": [
    "**Q8.** Gradient descent algorithm.\n",
    "\n",
    "Recall the following update rule for gradient descent,\n",
    "\n",
    "$\\omega \\leftarrow \\omega - \\eta \\nabla_{\\omega} L$\n",
    "\n",
    "$b \\leftarrow b - \\eta \\frac{\\partial L}{\\partial b}$\n",
    "\n",
    "where $\\eta > 0$ is the learning rate.\n",
    "\n",
    "Implement the gradient descent algorithm in a function grad_descent given the gradient vector $\\nabla_{\\omega} L$ (grad_w), derivative $\\frac{\\partial L}{\\partial b}$ (deriv_b), weights $\\omega$ and bias $b$. Also should be able to accept the learning rate $\\eta$ (eta). The function should return the updated $\\omega$ and $b$."
   ]
  },
  {
   "cell_type": "code",
   "execution_count": 15,
   "id": "bea3ddb7-6adb-4a26-a720-bb7c442ef8b2",
   "metadata": {},
   "outputs": [],
   "source": [
    "def grad_descent(grad_w, deriv_b, w, b, eta = 0.01):\n",
    "\n",
    "    #TODO\n",
    "    #apply gradient descent rule\n",
    "    w = w - eta * grad_w\n",
    "\n",
    "    #using the gradient descent rule\n",
    "    b = b - eta * deriv_b\n",
    "\n",
    "    return w, b"
   ]
  },
  {
   "cell_type": "markdown",
   "id": "e1ce15b6-54fe-40ac-862a-8e5b4d06584d",
   "metadata": {
    "deletable": false,
    "editable": false
   },
   "source": [
    "**Q9.** Train model\n",
    "\n",
    "Implement the function train. It should initialize $\\omega$ and $b$ to some random values or zeros. Then interatively update the $\\omega$ and $b$ using gradient descent, untill the number of interations reach the maximum number of interations specified as max_iter. The function will take in training data $(X, y)$, regularization details (type of reg, and $\\lambda$), and learning rate $\\eta$ (eta). Finally, it should return the trained $\\omega$ and $b$."
   ]
  },
  {
   "cell_type": "code",
   "execution_count": 16,
   "id": "3830aba7-f4f4-4f91-8098-73b9599571b6",
   "metadata": {},
   "outputs": [],
   "source": [
    "def train(X, y, reg = 'none', Lambda = 0.1, eta = 0.01, max_iter = 1000):\n",
    "\n",
    "    #TODO\n",
    "  \n",
    "    w = np.zeros(X.shape[1]) # initialize weights \n",
    "    b = 0 # initialize bias \n",
    "\n",
    "    for i in range(max_iter):\n",
    "        # predicted probabilities\n",
    "        p = sigProg(X, w, b)\n",
    "\n",
    "        grad_w, deriv_b = gradient(X, y, w, b, reg, Lambda)\n",
    "\n",
    "        w, b = grad_descent(grad_w, deriv_b, w, b, eta)\n",
    "\n",
    "    return w, b    \n"
   ]
  },
  {
   "cell_type": "markdown",
   "id": "2586151b-5edc-4fe1-b34f-b51f2f01b4d6",
   "metadata": {
    "deletable": false,
    "editable": false
   },
   "source": [
    "**Q10.** Predict using the model\n",
    "\n",
    "Implement a function predict to output predictions for given input data $X$, trained weights $\\omega$ and $b$. Make sure that the output should only consist of $1$'s and $0$'s. The function should return the predictions $\\hat{y}$ (yhat)."
   ]
  },
  {
   "cell_type": "code",
   "execution_count": 17,
   "id": "e5db246b-cd53-4593-bc5a-4c7edefa8624",
   "metadata": {},
   "outputs": [],
   "source": [
    "def predict(X, w, b):\n",
    "\n",
    "    #TODO\n",
    "    z= np.dot(X, w) + b\n",
    "\n",
    "    p = sigmoid(z)\n",
    "\n",
    "    yhat = (p >= 0.5).astype(int)\n",
    "\n",
    "    return yhat"
   ]
  },
  {
   "cell_type": "markdown",
   "id": "e5d4434d-102b-423c-a617-c208f5ae6654",
   "metadata": {
    "deletable": false,
    "editable": false
   },
   "source": [
    "**Q11.** Use the above logistic regression algorithm on the diabetes dataset. Train a model ($\\omega$, $b$). Then evaluate it. Use classification error to evaluate it.\n",
    "\n",
    "Start by separating the diabetesData into input (features) and output (Outcome), and store them in numpy matrices X_train and y_train respectively, and then normalizing the input features.\n",
    "\n",
    "Some tips to improve accuracy.\n",
    "\n",
    "1. Use cross validation to find the best hyperparameters $\\eta$, $\\lambda$, and regularization type.\n",
    "2. Plot the loss function versus iterations while training (you can do this by additionally collecting the loss values within the train function), having a smooth decreasing graph will indicate proper training.\n",
    "3. As above plot the $\\ell_2$-norm of the $\\omega$ vector versus iterations, we expect smooth decreasing curve for this as well.\n",
    "\n",
    "More tips and additional clarifications in class."
   ]
  },
  {
   "cell_type": "code",
   "execution_count": 18,
   "id": "9f677040-50b3-47ad-a5f8-9dc6b597dc40",
   "metadata": {},
   "outputs": [],
   "source": [
    "# Separate input features (X) and output labels (y)\n",
    "X_train = diabetesData.drop(columns=['Outcome']).values\n",
    "y_train = diabetesData['Outcome'].values\n",
    "\n",
    "# Normalize input features using z-score normalization\n",
    "X_train, mean, std = normalizeData(X_train)\n"
   ]
  },
  {
   "cell_type": "code",
   "execution_count": 19,
   "id": "65d9a5d8",
   "metadata": {},
   "outputs": [
    {
     "name": "stdout",
     "output_type": "stream",
     "text": [
      "Classification Error on Training Set: 0.2581\n"
     ]
    }
   ],
   "source": [
    "#use this as a hyperparameters \n",
    "b_eta  = 0.01\n",
    "b_lambda = 0.1\n",
    "reg = \"ridge\"\n",
    "w, b = train(X_train, y_train, reg=reg, Lambda=b_lambda, eta=b_eta)\n",
    "\n",
    "y_pred_train = predict(X_train, w, b)\n",
    "classification_error = np.mean(y_pred_train != y_train)\n",
    "print(f\"Classification Error on Training Set: {classification_error:.4f}\")\n"
   ]
  },
  {
   "cell_type": "code",
   "execution_count": 20,
   "id": "70319409",
   "metadata": {},
   "outputs": [
    {
     "data": {
      "image/png": "[encoded data removed]",
      "text/plain": [
       "<Figure size 1200x600 with 2 Axes>"
      ]
     },
     "metadata": {},
     "output_type": "display_data"
    }
   ],
   "source": [
    "def train(X, y, reg='none', Lambda=0.1, eta=0.01, max_iter=1000):\n",
    "    w = np.zeros(X.shape[1]) \n",
    "    b = 0 \n",
    "    loss_values = [] \n",
    "    omega_norm_values = [] \n",
    "\n",
    "    for i in range(max_iter):\n",
    "        p = sigProg(X, w, b)\n",
    "\n",
    "        grad_w, deriv_b = gradient(X, y, w, b, reg, Lambda)\n",
    "\n",
    "        w, b = grad_descent(grad_w, deriv_b, w, b, eta)\n",
    "\n",
    "        loss = -np.mean(y * np.log(p + 1e-8) + (1 - y) * np.log(1 - p + 1e-8))\n",
    "        loss_values.append(loss)\n",
    "\n",
    "        omega_norm_values.append(np.linalg.norm(w))\n",
    "\n",
    "    return w, b, loss_values, omega_norm_values\n",
    "\n",
    "\n",
    "w, b, loss_values, omega_norm_values = train(X_train, y_train, reg=reg, Lambda=b_lambda, eta=b_eta)\n",
    "\n",
    "plt.figure(figsize=(12, 6))\n",
    "\n",
    "\n",
    "plt.subplot(1, 2, 1)\n",
    "plt.plot(loss_values) \n",
    "plt.title(\"Loss Function vs Iterations\") \n",
    "plt.xlabel(\"Iterations\") \n",
    "plt.ylabel(\"Loss\") \n",
    "\n",
    "plt.subplot(1, 2, 2)\n",
    "plt.plot(omega_norm_values) \n",
    "plt.title(\"L2 Norm of Weights vs Iterations\") \n",
    "plt.xlabel(\"Iterations\") \n",
    "plt.ylabel(\"L2 Norm of Weights\") \n",
    "\n",
    "plt.tight_layout() \n",
    "plt.show() "
   ]
  },
  {
   "cell_type": "markdown",
   "id": "523c2edf-e4f4-45ea-8efd-47eb11b1a8ca",
   "metadata": {
    "deletable": false,
    "editable": false
   },
   "source": [
    "**Q12.** Testing on previously unseen test data - final part.\n",
    "\n",
    "1. Load the DiabetesTest.csv file.\n",
    "2. Use your best trained model to predict the 'Outcome' for this test data, assign your predictions to y_test_pred, this should be an array of $0$'s and $1$'s.\n",
    "3. This will be graded on the level of accuracy of your predictions.\n",
    "4. Remember to properly normalize your data before using them in the model. For normalization use the mean and standard deviation of the training data not the test data.\n"
   ]
  },
  {
   "cell_type": "code",
   "execution_count": 21,
   "id": "8ad523b1-a9e9-4364-8942-b66c9d8ec4fb",
   "metadata": {},
   "outputs": [
    {
     "data": {
      "text/plain": [
       "array([ 0.1169494 ,  0.23609798, -0.0043741 ,  0.01888265,  0.05368671,\n",
       "        0.15935749,  0.07834783,  0.1050898 ])"
      ]
     },
     "execution_count": 21,
     "metadata": {},
     "output_type": "execute_result"
    }
   ],
   "source": [
    "w"
   ]
  },
  {
   "cell_type": "code",
   "execution_count": 22,
   "id": "073e4fa6-2c1d-4641-b315-5733435a3861",
   "metadata": {},
   "outputs": [
    {
     "data": {
      "text/plain": [
       "np.float64(-0.22402805517981098)"
      ]
     },
     "execution_count": 22,
     "metadata": {},
     "output_type": "execute_result"
    }
   ],
   "source": [
    "b"
   ]
  },
  {
   "cell_type": "code",
   "execution_count": 23,
   "id": "708ec60f-77f5-4731-a99a-6dade1d75569",
   "metadata": {},
   "outputs": [
    {
     "data": {
      "text/plain": [
       "array([  3.84711779, 121.95989975,  68.8245614 ,  20.84962406,\n",
       "        84.12280702,  32.14360902,   0.4944812 ,  32.92982456])"
      ]
     },
     "execution_count": 23,
     "metadata": {},
     "output_type": "execute_result"
    }
   ],
   "source": [
    "mean"
   ]
  },
  {
   "cell_type": "code",
   "execution_count": 24,
   "id": "83f72aa6-7867-4e2f-bc35-24e799b16c00",
   "metadata": {},
   "outputs": [
    {
     "data": {
      "text/plain": [
       "array([  3.44148151,  32.31429917,  19.40362207,  15.67551428,\n",
       "       123.08373764,   8.24450013,   0.34326035,  11.41076692])"
      ]
     },
     "execution_count": 24,
     "metadata": {},
     "output_type": "execute_result"
    }
   ],
   "source": [
    "std"
   ]
  },
  {
   "cell_type": "code",
   "execution_count": 25,
   "id": "75e6055e-00ce-48eb-bf80-fb1a391f9a94",
   "metadata": {},
   "outputs": [
    {
     "name": "stdout",
     "output_type": "stream",
     "text": [
      "Predictions on Test Data Outcome\n",
      "[0 0 1 0 1 0 0 1 0 0 0 0 0 0 0 0 0 0 0 1 0 0 0 0 0 0 0 0 0 1 0 0 0 0 0 1 0\n",
      " 0 0 0 0 0 0 1 0 0 1 1 1 0 0 0 1 0 1 0 1 0 0 0 0 0 0 0 0 1 1 1 0 1 0 1 0 0\n",
      " 0 0 0 1 1 0 0 0 0 1 0 0 0 0 0 0 0 0 0 0 0 0 1 1 0 1]\n"
     ]
    }
   ],
   "source": [
    "#TODO\n",
    "diabetes_test = pd.read_csv(\"DiabetesTest.csv\")\n",
    "X_test = diabetes_test.values\n",
    "\n",
    "X_test_normalized = (X_test - mean) /std\n",
    "y_test_pred = predict(X_test_normalized,w,b)\n",
    "\n",
    "print(\"Predictions on Test Data Outcome\")\n",
    "print(y_test_pred)"
   ]
  },
  {
   "cell_type": "code",
   "execution_count": null,
   "id": "64e8f24b-feae-47b2-8757-b852bebeb51b",
   "metadata": {},
   "outputs": [],
   "source": []
  },
  {
   "cell_type": "code",
   "execution_count": null,
   "id": "4be62c2c-eca1-43b0-9e71-4f5a6d973eb7",
   "metadata": {},
   "outputs": [],
   "source": []
  }
 ],
 "metadata": {
  "kernelspec": {
   "display_name": "Python 3",
   "language": "python",
   "name": "python3"
  },
  "language_info": {
   "codemirror_mode": {
    "name": "ipython",
    "version": 3
   },
   "file_extension": ".py",
   "mimetype": "text/x-python",
   "name": "python",
   "nbconvert_exporter": "python",
   "pygments_lexer": "ipython3",
   "version": "3.12.1"
  }
 },
 "nbformat": 4,
 "nbformat_minor": 5
}
